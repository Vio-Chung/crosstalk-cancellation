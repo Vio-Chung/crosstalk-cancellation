{
 "cells": [
  {
   "cell_type": "code",
   "execution_count": 3,
   "id": "6dca5e13",
   "metadata": {},
   "outputs": [],
   "source": [
    "import numpy as np\n",
    "import sounddevice as sd\n",
    "import soundfile as sf\n",
    "from scipy.signal import firwin, lfilter"
   ]
  },
  {
   "cell_type": "code",
   "execution_count": 4,
   "id": "aa6282e1",
   "metadata": {},
   "outputs": [],
   "source": [
    "# Constants\n",
    "fs = 44100  # Sample rate (Hz)\n",
    "duration = 5  # Duration in seconds\n",
    "speed_of_sound = 343  # Speed of sound in m/s"
   ]
  },
  {
   "cell_type": "markdown",
   "id": "5595e858",
   "metadata": {},
   "source": [
    "## Use test tone"
   ]
  },
  {
   "cell_type": "code",
   "execution_count": 5,
   "id": "3285c1c5",
   "metadata": {},
   "outputs": [],
   "source": [
    "# Generate binaural test tones\n",
    "t = np.linspace(0, duration, int(fs * duration), endpoint=False)\n",
    "tone_left = 0.5 * np.sin(2 * np.pi * 440 * t)  # 440 Hz for left ear\n",
    "tone_right = 0.5 * np.sin(2 * np.pi * 445 * t)  # 445 Hz for right ear"
   ]
  },
  {
   "cell_type": "code",
   "execution_count": 6,
   "id": "a95c16c7",
   "metadata": {},
   "outputs": [
    {
     "name": "stdout",
     "output_type": "stream",
     "text": [
      "File saved as 'binaural_test_tone.wav'.\n"
     ]
    }
   ],
   "source": [
    "# Combine into a stereo signal\n",
    "binaural_signal = np.column_stack((tone_left, tone_right))\n",
    "\n",
    "# Save to file\n",
    "output_file = 'binaural_test_tone.wav'\n",
    "sf.write(output_file, binaural_signal, fs)\n",
    "\n",
    "print(f\"File saved as '{output_file}'.\")"
   ]
  },
  {
   "cell_type": "code",
   "execution_count": 14,
   "id": "28dd22e9",
   "metadata": {},
   "outputs": [],
   "source": [
    "sd.play(binaural_signal, fs)\n",
    "sd.wait()"
   ]
  },
  {
   "cell_type": "markdown",
   "id": "caeed517",
   "metadata": {},
   "source": [
    "## Adjust the distances based on your listening env"
   ]
  },
  {
   "cell_type": "code",
   "execution_count": 8,
   "id": "3fb6bf19",
   "metadata": {},
   "outputs": [],
   "source": [
    "# Geometry\n",
    "distance_speakers = 0.71  # Distance between speakers in meters\n",
    "distance_to_ear = 0.71 # Equilateral Triangle\n",
    "distance_crosstalk = 0.775"
   ]
  },
  {
   "cell_type": "code",
   "execution_count": 9,
   "id": "a8b25bcf",
   "metadata": {},
   "outputs": [],
   "source": [
    "# Calculate delays for direct path\n",
    "delay_direct = distance_to_ear / speed_of_sound\n",
    "sample_delay_direct = int(fs * delay_direct)\n",
    "\n",
    "# Calculate delays for crosstalk paths\n",
    "delay_crosstalk = distance_crosstalk / speed_of_sound\n",
    "sample_delay_crosstalk = int(fs * delay_crosstalk)"
   ]
  },
  {
   "cell_type": "markdown",
   "id": "1f5c9209",
   "metadata": {},
   "source": [
    "## Crosstalk cancellation filter"
   ]
  },
  {
   "cell_type": "code",
   "execution_count": 10,
   "id": "9ecbc67b",
   "metadata": {},
   "outputs": [],
   "source": [
    "n_taps = 101 # a zeros holder to adjust delay, inversion, and amplitude.\n",
    "\n",
    "# Direct path filters\n",
    "h_ll = np.zeros(n_taps)\n",
    "h_rr = np.zeros(n_taps)\n",
    "h_ll[sample_delay_direct] = 1  # Left to left\n",
    "h_rr[sample_delay_direct] = 1  # Right to right\n",
    "\n",
    "# Crosstalk path filters (with corrected delays)\n",
    "h_lr = np.zeros(n_taps)\n",
    "h_rl = np.zeros(n_taps)\n",
    "h_lr[sample_delay_crosstalk] = -0.5  # Left to right, inverted and attenuated\n",
    "h_rl[sample_delay_crosstalk] = -0.5  # Right to left, inverted and attenuated"
   ]
  },
  {
   "cell_type": "code",
   "execution_count": 11,
   "id": "aae414ea",
   "metadata": {},
   "outputs": [],
   "source": [
    "# Apply filters (coefficient, transfer function, x)\n",
    "left_processed = lfilter(h_ll, 1.0, tone_left) + lfilter(h_lr, 1.0, tone_right)\n",
    "right_processed = lfilter(h_rr, 1.0, tone_right) + lfilter(h_rl, 1.0, tone_left)"
   ]
  },
  {
   "cell_type": "code",
   "execution_count": 12,
   "id": "e1ef4b3f",
   "metadata": {},
   "outputs": [],
   "source": [
    "# Combine into a stereo signal\n",
    "stereo_signal = np.column_stack((left_processed, right_processed))"
   ]
  },
  {
   "cell_type": "code",
   "execution_count": 15,
   "id": "63fdfd4b",
   "metadata": {},
   "outputs": [],
   "source": [
    "# Play the processed signal\n",
    "sd.play(stereo_signal, fs)\n",
    "sd.wait()"
   ]
  },
  {
   "cell_type": "markdown",
   "id": "69510003",
   "metadata": {},
   "source": [
    "## Using binaural recording"
   ]
  },
  {
   "cell_type": "code",
   "execution_count": 16,
   "id": "ec2fd211",
   "metadata": {},
   "outputs": [],
   "source": [
    "import librosa\n",
    "x, sr = librosa.load(\"/Users/vio/Desktop/3D Audio/Xtalk/Binaural Recording At Cafe.wav\", sr=None, mono=False)"
   ]
  },
  {
   "cell_type": "code",
   "execution_count": 17,
   "id": "bca9fdad",
   "metadata": {},
   "outputs": [
    {
     "data": {
      "text/plain": [
       "(2, 617400)"
      ]
     },
     "execution_count": 17,
     "metadata": {},
     "output_type": "execute_result"
    }
   ],
   "source": [
    "np.shape(x)"
   ]
  },
  {
   "cell_type": "code",
   "execution_count": 18,
   "id": "422bbf16",
   "metadata": {},
   "outputs": [],
   "source": [
    "tone_left = x[0, :]\n",
    "tone_right = x[1, :]"
   ]
  },
  {
   "cell_type": "code",
   "execution_count": 19,
   "id": "fa0b536f",
   "metadata": {},
   "outputs": [],
   "source": [
    "# Apply filters\n",
    "left_processed = lfilter(h_ll, 1.0, tone_left) + lfilter(h_lr, 1.0, tone_right)\n",
    "right_processed = lfilter(h_rr, 1.0, tone_right) + lfilter(h_rl, 1.0, tone_left)"
   ]
  },
  {
   "cell_type": "code",
   "execution_count": 20,
   "id": "c2b0bda4",
   "metadata": {},
   "outputs": [],
   "source": [
    "xtalk_processed_signal = np.column_stack((left_processed, right_processed))"
   ]
  },
  {
   "cell_type": "code",
   "execution_count": 21,
   "id": "6438c40a",
   "metadata": {},
   "outputs": [],
   "source": [
    "sd.play(xtalk_processed_signal, fs)\n",
    "sd.wait()"
   ]
  },
  {
   "cell_type": "code",
   "execution_count": 22,
   "id": "e5d6f462",
   "metadata": {},
   "outputs": [],
   "source": [
    "output_file = \"/Users/vio/Desktop/xtalk_Processed_Binaural_Cafe.wav\"\n",
    "sf.write(output_file, xtalk_processed_signal, fs)"
   ]
  },
  {
   "cell_type": "code",
   "execution_count": null,
   "id": "b7d556b6",
   "metadata": {},
   "outputs": [],
   "source": []
  }
 ],
 "metadata": {
  "kernelspec": {
   "display_name": "xtalk",
   "language": "python",
   "name": "xtalk"
  },
  "language_info": {
   "codemirror_mode": {
    "name": "ipython",
    "version": 3
   },
   "file_extension": ".py",
   "mimetype": "text/x-python",
   "name": "python",
   "nbconvert_exporter": "python",
   "pygments_lexer": "ipython3",
   "version": "3.11.5"
  }
 },
 "nbformat": 4,
 "nbformat_minor": 5
}
